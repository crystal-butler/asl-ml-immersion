{
 "cells": [
  {
   "cell_type": "markdown",
   "id": "2fdb77ea71896541",
   "metadata": {},
   "source": [
    "# Deploying ADK Agent on Vertex AI Agent Engine"
   ]
  },
  {
   "cell_type": "markdown",
   "id": "d4b17ab0-673c-4a1c-9816-1414c60fd926",
   "metadata": {
    "tags": []
   },
   "source": [
    "## Overview\n",
    "\n",
    "This notebook guides you through deploying and managing a conversational AI agent to **Vertex AI Agent Engine**. \n",
    "\n",
    "## Learning Goals\n",
    "\n",
    "By the end of this notebook, you will understand how to:\n",
    "* Set up required configuration and deploy ADK **Agents** to **Vertex AI Agent Engine**.\n",
    "* Use the ADK **RemoteAgent** ans **RemoteSession** to execute agent interactions.\n",
    "* Use the Vertex AI SDK to Manage (list/update) and delete agents that you have deployed to Vertex AI Agent Engine."
   ]
  },
  {
   "cell_type": "markdown",
   "id": "31c5d860-0945-4799-b2ba-74298c87ee3b",
   "metadata": {},
   "source": [
    "## ADK Agent deployment Options\n",
    "Your ADK agent can be deployed to a range of different environments based on your needs for production readiness or custom flexibility:\n",
    "\n",
    "#### Agent Engine in Vertex AI\n",
    "Agent Engine is a fully managed auto-scaling service on Google Cloud specifically designed for deploying, managing, and scaling AI agents built with frameworks such as ADK.\n",
    "\n",
    "[Learn more about deploying your agent to Vertex AI Agent Engine.](https://google.github.io/adk-docs/deploy/agent-engine/)\n",
    "\n",
    "#### Cloud Run\n",
    "Cloud Run is a managed auto-scaling compute platform on Google Cloud that enables you to run your agent as a container-based application.\n",
    "\n",
    "[Learn more about deploying your agent to Cloud Run.](https://google.github.io/adk-docs/deploy/cloud-run/)\n",
    "\n",
    "#### Google Kubernetes Engine (GKE)\n",
    "Google Kubernetes Engine (GKE) is a managed Kubernetes service of Google Cloud that allows you to run your agent in a containerized environment. GKE is a good option if you need more control over the deployment as well as for running Open Models.\n",
    "\n",
    "[Learn more about deploying your agent to GKE.](https://google.github.io/adk-docs/deploy/gke/)"
   ]
  },
  {
   "cell_type": "markdown",
   "id": "7bddc598071d69c5",
   "metadata": {},
   "source": [
    "### Agent Engine Overview\n",
    "**Agent Engine** is a set of services that enables developers to deploy, manage, and scale AI Agents in production. It handles the infrastructure to scale agents in production so you can focus on creating applications. Agent Engine integrates closely with the Python SDK for the Gemini model in Vertex AI, and it can manage prompts, agents, and examples in a modular way. Also its compatible with ADK, LangChain, LlamaIndex, or other Python frameworks.\n",
    "\n",
    "Here are the services that Agent Engine offers, which you can use individually or in combination:\n",
    "\n",
    "**Runtime:** Deploy and scale agents with a managed runtime and end-to-end management capabilities.\n",
    "\n",
    "**Quality and evaluation**: Evaluate agent quality with the integrated Gen AI Evaluation service and optimize agents with Gemini model training runs.\n",
    "\n",
    "**Example Store**: Store and dynamically retrieve few-shot examples to improve agent performance.\n",
    "\n",
    "**Sessions**: Agent Engine Sessions lets you store individual interactions between users and agents, providing definitive sources for conversation context.\n",
    "\n",
    "**Memory Bank**: Agent Engine Memory Bank lets you store and retrieve information from sessions to personalize agent interactions."
   ]
  },
  {
   "cell_type": "markdown",
   "id": "3d255611-a6ea-4605-b70d-326d91fa438d",
   "metadata": {},
   "source": [
    "## Setup\n",
    "This lab needs a special kernel to run, please run the following cell.\n",
    "**NOTE: You can skip this step if you have already built the ADK Kernel from the previous Lab**"
   ]
  },
  {
   "cell_type": "code",
   "execution_count": null,
   "id": "ebecae6b-b122-4c50-8614-24bee5114444",
   "metadata": {
    "tags": []
   },
   "outputs": [],
   "source": [
    "!echo \"Kernel installation started.\"\n",
    "!cd ../../.. && make adk_kernel > /dev/null 2>&1\n",
    "!echo \"Kernel installation completed.\""
   ]
  },
  {
   "cell_type": "markdown",
   "id": "ae474f30-8d24-46c9-a88e-48480cae9dac",
   "metadata": {},
   "source": [
    "When it's completed, select the **`ADK Kernel`** on the top right before going forward in the notebook.<br>\n",
    "It may take ~1 minutes until the kernel is shown after the installation."
   ]
  },
  {
   "cell_type": "markdown",
   "id": "41f5ecd2-09e3-4801-9918-bbf861b62d3d",
   "metadata": {},
   "source": [
    "## Install Packages"
   ]
  },
  {
   "cell_type": "code",
   "execution_count": null,
   "id": "09d0fe85-302a-4ac6-afcb-360bb7764c3d",
   "metadata": {
    "tags": []
   },
   "outputs": [],
   "source": [
    "import importlib\n",
    "import json\n",
    "import os\n",
    "import warnings\n",
    "\n",
    "import vertexai\n",
    "from vertexai import agent_engines\n",
    "from vertexai.preview.reasoning_engines import AdkApp\n",
    "\n",
    "# Ignore all warnings\n",
    "warnings.filterwarnings(\"ignore\")\n",
    "\n",
    "import logging\n",
    "\n",
    "logging.basicConfig(level=logging.ERROR)"
   ]
  },
  {
   "cell_type": "code",
   "execution_count": null,
   "id": "9e7b1b3e-6b91-42f4-9550-fe027efb1988",
   "metadata": {
    "tags": []
   },
   "outputs": [],
   "source": [
    "LOCATION = \"us-central1\"\n",
    "os.environ[\"GOOGLE_CLOUD_LOCATION\"] = LOCATION\n",
    "os.environ[\"GOOGLE_GENAI_USE_VERTEXAI\"] = \"TRUE\"  # Use Vertex AI API"
   ]
  },
  {
   "cell_type": "code",
   "execution_count": null,
   "id": "ec87bb48-e10d-49f7-97da-4ffc52edd4a4",
   "metadata": {
    "tags": []
   },
   "outputs": [],
   "source": [
    "%%bash\n",
    "echo > adk_agents/.env \"GOOGLE_CLOUD_LOCATION=$GOOGLE_CLOUD_LOCATION\n",
    "GOOGLE_GENAI_USE_VERTEXAI=$GOOGLE_GENAI_USE_VERTEXAI\n",
    "\""
   ]
  },
  {
   "cell_type": "code",
   "execution_count": null,
   "id": "f9593b46-00f1-4af6-926d-e58017535000",
   "metadata": {
    "tags": []
   },
   "outputs": [],
   "source": [
    "MODEL = \"gemini-2.0-flash\""
   ]
  },
  {
   "cell_type": "markdown",
   "id": "a2d754cc-3499-4b81-81ec-4ba1f4da7a61",
   "metadata": {},
   "source": [
    "## Prepare an Agent files\n",
    "\n",
    "Here, let's reuse the basic agent files created in [building_agent_with_adk.ipynb](./building_agent_with_adk.ipynb) notebook.\n",
    "\n",
    "If you haven't run the notebook, executed the cells below to create files."
   ]
  },
  {
   "cell_type": "code",
   "execution_count": null,
   "id": "7a289a32-cfd2-48cf-abd5-edbc60c12b2c",
   "metadata": {
    "tags": []
   },
   "outputs": [],
   "source": [
    "%%writefile ./adk_agents/agent1_weather_lookup/tools.py\n",
    "def get_weather(city: str) -> dict:\n",
    "    \"\"\"Retrieves the current weather report for a specified city.\n",
    "\n",
    "    Args:\n",
    "        city (str): The name of the city (e.g., \"New York\", \"London\", \"Tokyo\").\n",
    "\n",
    "    Returns:\n",
    "        dict: A dictionary containing the weather information.\n",
    "              Includes a 'status' key ('success' or 'error').\n",
    "              If 'success', includes a 'report' key with weather details.\n",
    "              If 'error', includes an 'error_message' key.\n",
    "    \"\"\"\n",
    "    print(f\"--- Tool: get_weather called for city: {city} ---\") # Log tool execution\n",
    "    city_normalized = city.lower().replace(\" \", \"\") # Basic normalization\n",
    "\n",
    "    # Mock weather data\n",
    "    mock_weather_db = {\n",
    "        \"newyork\": {\"status\": \"success\", \"report\": \"The weather in New York is sunny with a temperature of 25°C.\"},\n",
    "        \"london\": {\"status\": \"success\", \"report\": \"It's cloudy in London with a temperature of 15°C.\"},\n",
    "        \"tokyo\": {\"status\": \"success\", \"report\": \"Tokyo is experiencing light rain and a temperature of 18°C.\"},\n",
    "    }\n",
    "\n",
    "    if city_normalized in mock_weather_db:\n",
    "        return mock_weather_db[city_normalized]\n",
    "    else:\n",
    "        return {\"status\": \"error\", \"error_message\": f\"Sorry, I don't have weather information for '{city}'.\"}"
   ]
  },
  {
   "cell_type": "code",
   "execution_count": null,
   "id": "bd0d941f-7aee-4bb7-90d6-d6dbae11181d",
   "metadata": {
    "tags": []
   },
   "outputs": [],
   "source": [
    "%%writefile ./adk_agents/agent1_weather_lookup/agent.py\n",
    "from google.adk.agents import Agent\n",
    "MODEL = \"gemini-2.0-flash\"\n",
    "\n",
    "from .tools import get_weather\n",
    "\n",
    "root_agent = Agent(\n",
    "    name=\"weather_agent_v1\",\n",
    "    model=MODEL, # Can be a string for Gemini or a LiteLlm object\n",
    "    description=\"Provides weather information for specific cities.\",\n",
    "    instruction=\"You are a helpful weather assistant. \"\n",
    "                \"When the user asks for the weather in a specific city, \"\n",
    "                \"use the 'get_weather' tool to find the information. \"\n",
    "                \"If the tool returns an error, inform the user politely. \"\n",
    "                \"If the tool is successful, present the weather report clearly.\",\n",
    "    tools=[get_weather], # Pass the function directly\n",
    ")"
   ]
  },
  {
   "cell_type": "code",
   "execution_count": null,
   "id": "a52d1dc7-c6e7-45e5-be52-358934dfbcd7",
   "metadata": {
    "tags": []
   },
   "outputs": [],
   "source": [
    "APP_NAME = \"weather_info_app\"\n",
    "USER_ID = \"user_1\""
   ]
  },
  {
   "cell_type": "markdown",
   "id": "78294254-96ba-4ee3-8ccc-33be9c83ef2a",
   "metadata": {
    "tags": []
   },
   "source": [
    "## Deploy to Vertex AI Agent Engine\n",
    "Agent Engine is a fully managed Google Cloud service enabling developers to deploy, manage, and scale AI agents in production. \n",
    "Agent Engine handles the infrastructure to scale agents in production so you can focus on creating intelligent and impactful applications."
   ]
  },
  {
   "cell_type": "code",
   "execution_count": null,
   "id": "93b5a5e6-c151-4c91-bf29-3982baf07830",
   "metadata": {
    "tags": []
   },
   "outputs": [],
   "source": [
    "LOCATION = \"us-central1\"\n",
    "PROJECT = !gcloud config list --format 'value(core.project)'\n",
    "PROJECT = PROJECT[0]\n",
    "BUCKET_NAME = f\"agent-deployment-{PROJECT}-bucket\"\n",
    "BUCKET_URI = f\"gs://{BUCKET_NAME}\""
   ]
  },
  {
   "cell_type": "markdown",
   "id": "8a3e13a4-81da-43b0-b673-2591ff98ec23",
   "metadata": {},
   "source": [
    "**Checking for the existence of BUCKET. Creating it if it doesn't exist:**"
   ]
  },
  {
   "cell_type": "code",
   "execution_count": null,
   "id": "826bda76-bba8-4bde-905d-5d05b85022bf",
   "metadata": {
    "tags": []
   },
   "outputs": [],
   "source": [
    "!gsutil ls $BUCKET_URI || gsutil mb -l $LOCATION $BUCKET_URI"
   ]
  },
  {
   "cell_type": "markdown",
   "id": "4696b723-b631-4d0c-b660-d53c3b4627b0",
   "metadata": {
    "tags": []
   },
   "source": [
    "### Initialization"
   ]
  },
  {
   "cell_type": "code",
   "execution_count": null,
   "id": "61d73e11-d05f-4c82-90cd-1a7f20d61707",
   "metadata": {
    "tags": []
   },
   "outputs": [],
   "source": [
    "vertexai.init(project=PROJECT, location=LOCATION, staging_bucket=BUCKET_URI)"
   ]
  },
  {
   "cell_type": "markdown",
   "id": "62f3f71a-44db-4919-a668-8f78d0408ef9",
   "metadata": {},
   "source": [
    "### Prepare your agent for Agent Engine¶\n",
    "Use `reasoning_engines.AdkApp()` to wrap your agent to make it deployable to Agent Engine"
   ]
  },
  {
   "cell_type": "code",
   "execution_count": null,
   "id": "61196180-5bfb-42e9-81e5-bf51707fdeb9",
   "metadata": {
    "tags": []
   },
   "outputs": [],
   "source": [
    "from adk_agents.agent1_weather_lookup import agent\n",
    "\n",
    "importlib.reload(agent)  # Force reload\n",
    "adk_app = AdkApp(agent=agent.root_agent, enable_tracing=True)"
   ]
  },
  {
   "cell_type": "markdown",
   "id": "943f8b2b-796b-4bd7-9a46-a55f909d0251",
   "metadata": {
    "tags": []
   },
   "source": [
    "### Deploy your agent to Agent Engine\n",
    "\n",
    "Now you're ready to deploy your agent to Agent Engine in Vertex AI by calling `agent_engines.create()` along with:\n",
    "\n",
    "1. The instance of your agent class\n",
    "2. The Python packages and versions that your agent requires at runtime, similar to how you would define packages and versions in a `requirements.txt` file.\n",
    "\n",
    "This step may take several minutes to finish."
   ]
  },
  {
   "cell_type": "code",
   "execution_count": null,
   "id": "3385e1f9-183f-4aa8-b207-a7b812225709",
   "metadata": {
    "tags": []
   },
   "outputs": [],
   "source": [
    "DISPLAY_NAME = agent.root_agent.name\n",
    "\n",
    "remote_app = agent_engines.create(\n",
    "    adk_app,\n",
    "    display_name=DISPLAY_NAME,\n",
    "    description=\"Weather Agent v1\",\n",
    "    requirements=[\n",
    "        \"google-adk (>=1.5.0)\",\n",
    "        \"google-genai (>=1.5.0,<2.0.0)\",\n",
    "    ],\n",
    "    extra_packages=[\"./adk_agents/\"],\n",
    ")\n",
    "\n",
    "print(f\"Created remote agent: {remote_app.resource_name}\")"
   ]
  },
  {
   "cell_type": "markdown",
   "id": "e40f9567ced94315",
   "metadata": {},
   "source": [
    "Deployment takes a few minutes, during which the following steps happen in the background:\n",
    "\n",
    "A bundle of the following artifacts are generated locally:\n",
    " - *.pkl a pickle file corresponding to local_agent.\n",
    " - requirements.txt a text file containing the package requirements.\n",
    " - dependencies.tar.gz a tar file containing any extra packages.\n",
    "\n",
    "The bundle is uploaded to Cloud Storage (under the corresponding folder) for staging the artifacts.\n",
    "The Cloud Storage URIs for the respective artifacts are specified in the PackageSpec.\n",
    "The Vertex AI Agent Engine service receives the request and builds containers and starts HTTP servers on the backend.\n",
    "\n",
    "Deployment latency depends on the total time it takes to install required packages.\n",
    "Once deployed, remote_agent corresponds to an instance of agent that is running on Vertex AI and can be queried or deleted.\n",
    "You can check deployed agents using Cloud Console: Vertex AI -> Agent Engine\n",
    "\n",
    "[https://console.cloud.google.com/vertex-ai/agents/agent-engines]()"
   ]
  },
  {
   "cell_type": "markdown",
   "id": "cb79886b-d9a4-42c9-9057-ab1c8e47741b",
   "metadata": {
    "tags": []
   },
   "source": [
    "### Try ADK agent on Agent Engine\n",
    "#### Create session (remote)\n",
    "Just like you wouldn't start every text message from scratch, agents need context regarding the ongoing interaction.\n",
    "Session is the ADK object designed specifically to track and manage these individual conversation threads.\n",
    "When a user starts interacting with your agent, the SessionService creates a Session object to keep track for ongoing interactions for this user.\n",
    "**where USER_ID is a user-defined ID with a character limit of 128.**"
   ]
  },
  {
   "cell_type": "code",
   "execution_count": null,
   "id": "a66e1aca-4e83-40ee-a075-62f4ee0d0ded",
   "metadata": {},
   "outputs": [],
   "source": [
    "remote_session = remote_app.create_session(user_id=USER_ID)"
   ]
  },
  {
   "cell_type": "markdown",
   "id": "3228281f-c7a1-4979-850e-3a77aaedbeb5",
   "metadata": {},
   "source": [
    "#### Examining Session Properties output for create_session (remote):\n",
    "A session represents an interaction between you and an AI agent. It tracks the conversation history, agent actions, and memory, allowing the agent to maintain context across interactions.\n",
    "Lets defines a helper function `print_adk_session(remote_session)` that processes the raw ADK session and formats it clearly."
   ]
  },
  {
   "cell_type": "code",
   "execution_count": null,
   "id": "2cdb8c01-7f9c-4a57-bfc6-17728fe80584",
   "metadata": {
    "tags": []
   },
   "outputs": [],
   "source": [
    "def print_adk_session(remote_session):\n",
    "    print(f\"Session ID:        {remote_session['id']}\")\n",
    "    print(f\"Application Name:  {remote_session['appName']}\")\n",
    "    print(f\"User ID:           {remote_session['userId']}\")\n",
    "    # Note: Only shows initial state here\n",
    "    print(f\"Session State:     {remote_session['state']}\")\n",
    "    # Initially empty\n",
    "    print(f\"Session Events:    {remote_session['events']}\")\n",
    "    # Unix timestamps in seconds\n",
    "    print(f\"Last Update:       {remote_session['lastUpdateTime']:.2f}\")\n",
    "\n",
    "\n",
    "print_adk_session(remote_session)"
   ]
  },
  {
   "cell_type": "markdown",
   "id": "2ff13a35ccd5d2f6",
   "metadata": {},
   "source": [
    "#### Send queries to your agent (remote)\n",
    "Lets defines a helper function `print_adk_output(event)` that processes the raw ADK Agent output.\n",
    "It identifies each step: tool call, tool response, final text output and formats it clearly."
   ]
  },
  {
   "cell_type": "code",
   "execution_count": null,
   "id": "c3152555227ecc9b",
   "metadata": {},
   "outputs": [],
   "source": [
    "def print_adk_output(event: dict):\n",
    "    # Extract the first part of the content\n",
    "    part = event.get(\"content\", {}).get(\"parts\", [{}])[0]\n",
    "    author = event.get(\"author\", \"unknown_agent\")\n",
    "    print(f\"\\n--- [Event: {author}] ---\")\n",
    "\n",
    "    # Case 1: The model is calling a function/tool\n",
    "    if \"function_call\" in part:\n",
    "        call = part[\"function_call\"]\n",
    "        func_name = call.get(\"name\", \"N/A\")\n",
    "        func_args = call.get(\"args\", {})\n",
    "        print(\"Tool Call:\")\n",
    "        print(f\"  - Function: {func_name}\")\n",
    "        print(f\"  - Arguments: {json.dumps(func_args, indent=2)}\")\n",
    "\n",
    "    # Case 2: The tool is returning a response\n",
    "    elif \"function_response\" in part:\n",
    "        response = part[\"function_response\"]\n",
    "        func_name = response.get(\"name\", \"N/A\")\n",
    "        func_response = response.get(\"response\", {})\n",
    "        print(\"Tool Response:\")\n",
    "        print(f\"  - From: {func_name}\")\n",
    "        # Pretty print the response JSON\n",
    "        print(f\"  - Data: {json.dumps(func_response, indent=2)}\")\n",
    "\n",
    "    # Case 3: The model is generating a final text response\n",
    "    elif \"text\" in part:\n",
    "        text_response = part[\"text\"].strip()\n",
    "        print(\"Final Agent Response:\")\n",
    "        print(f\"  -> {text_response}\")\n",
    "\n",
    "    else:\n",
    "        print(\"Unknown step type.\")"
   ]
  },
  {
   "cell_type": "markdown",
   "id": "325b46e6-9109-451a-b7d6-d5d0914a7f78",
   "metadata": {},
   "source": [
    "Now you can send a prompt to your remote agent using .stream_query to get the response:"
   ]
  },
  {
   "cell_type": "code",
   "execution_count": null,
   "id": "20ab2bd9-e0ae-4726-81fa-7cb2d9836a74",
   "metadata": {
    "tags": []
   },
   "outputs": [],
   "source": [
    "for event in remote_app.stream_query(\n",
    "    user_id=USER_ID,\n",
    "    session_id=remote_session[\"id\"],\n",
    "    message=\"What's the weather in New York?\",\n",
    "):\n",
    "    print_adk_output(event)"
   ]
  },
  {
   "cell_type": "markdown",
   "id": "80c775a2c0f6bccb",
   "metadata": {},
   "source": [
    "#### Inspect traces for an agent\n",
    "A trace is a timeline of requests as your agent responds to each query.\n",
    "Go to [Trace Explorer](https://console.cloud.google.com/traces/explorer) in the Google Cloud console.\n",
    "The first row in the Gantt chart is for the trace. A trace is composed of individual spans, which represent a single unit of work, like a function call or an interaction with an LLM, with the first span representing the overall request. Each span provides details about a specific operation, such as the operation's name, start and end times, and any relevant attributes, within the request.\n",
    "To learn more, see the [Cloud Trace documentation](https://cloud.google.com/vertex-ai/generative-ai/docs/agent-engine/manage/tracing)."
   ]
  },
  {
   "cell_type": "markdown",
   "id": "a9015cf5-727a-40e7-b31c-6e17af78d2a9",
   "metadata": {
    "tags": []
   },
   "source": [
    "#### List sessions (remote)\n",
    "Vertex AI Agent Engine Sessions maintains the history of interactions between a user and agents.\n",
    "Sessions provide definitive sources for long-term memory and conversation context.\n",
    "In case of resuming existing conversations, you can get all existing sessions for a user:"
   ]
  },
  {
   "cell_type": "code",
   "execution_count": null,
   "id": "93d108fa-7a98-4bee-b359-7cf351fd230c",
   "metadata": {},
   "outputs": [],
   "source": [
    "remote_app.list_sessions(user_id=USER_ID)"
   ]
  },
  {
   "cell_type": "markdown",
   "id": "ed0c14fcc02a1c6b",
   "metadata": {},
   "source": [
    "You can inspect existing sessions using Google Cloud console.\n",
    "Go to Vertex AI in the Google Cloud console, and then navigate to the Agent Engine, open \"Sessions\" Tab for specific agent."
   ]
  },
  {
   "cell_type": "markdown",
   "id": "eecae378-9d00-4382-8575-a8dc124fe135",
   "metadata": {
    "tags": []
   },
   "source": [
    "#### Get a specific session (remote)\n",
    "Retrieving a specific Session (using its ID) so the agent can continue where it left off.\n",
    "**To get a specific session, you need both the user ID and the session ID:**\n",
    "While using your agent locally, session ID is stored in session.id, when using your agent remotely on Agent Engine, session ID is stored in remote_session[\"id\"]."
   ]
  },
  {
   "cell_type": "code",
   "execution_count": null,
   "id": "b6f39e81-8460-43eb-8465-250dc1fb7f0d",
   "metadata": {},
   "outputs": [],
   "source": [
    "remote_app.get_session(user_id=USER_ID, session_id=remote_session[\"id\"])"
   ]
  },
  {
   "cell_type": "markdown",
   "id": "2e24cff9-bde3-4b81-81da-f65897aa4e78",
   "metadata": {},
   "source": [
    "### Manage deployed agents\n",
    "Deployed agents are resources of type reasoningEngine in Vertex AI."
   ]
  },
  {
   "cell_type": "markdown",
   "id": "45a3a60f-3445-40c1-9c3a-3d18f734b2ad",
   "metadata": {},
   "source": [
    "#### List all deployed agents for a given project and location:\n",
    "In case if you need to list all active AI Agents deployments you cau use `agent_engines.list()` method.\n",
    "Each deployed agent has a unique identifier ***Name*** and fully qualified resource name ***Resource Name***"
   ]
  },
  {
   "cell_type": "code",
   "execution_count": null,
   "id": "102f2d86-64e4-4824-b4d8-e689d8a287f9",
   "metadata": {
    "tags": []
   },
   "outputs": [],
   "source": [
    "agents_list = agent_engines.list()\n",
    "for remote_agent in agents_list:\n",
    "    print(\"\\n------\")\n",
    "    print(f\"Display Name: {remote_agent.display_name}\")\n",
    "    print(f\"Name: {remote_agent.name}\")\n",
    "    print(f\"Resource Name: {remote_agent.resource_name}\")\n",
    "    print(f\"Create Time: {remote_agent.create_time}\")"
   ]
  },
  {
   "cell_type": "markdown",
   "id": "ab069b82-022e-499a-b05b-012a931c6934",
   "metadata": {},
   "source": [
    "#### Filter results by display_name\n",
    "In case if you need to get specific agent by only display_name:"
   ]
  },
  {
   "cell_type": "code",
   "execution_count": null,
   "id": "d0d892f8-1229-42dc-ae9c-2a5d279e6b5f",
   "metadata": {
    "tags": []
   },
   "outputs": [],
   "source": [
    "DISPLAY_NAME = \"weather_agent_v1\""
   ]
  },
  {
   "cell_type": "code",
   "execution_count": null,
   "id": "57adc9ce-5e05-4054-b7c0-606fb4706efa",
   "metadata": {
    "tags": []
   },
   "outputs": [],
   "source": [
    "agents_list = agent_engines.list(filter=f'display_name=\"{DISPLAY_NAME}\"')\n",
    "if agents_list:\n",
    "    AGENT_RESOURCE_ID = remote_agent.name\n",
    "    print(f\"Agent Name: {remote_agent.name}\")\n",
    "    AGENT_RESOURCE_NAME = remote_agent.resource_name\n",
    "    print(f\"Resource Name: {remote_agent.resource_name}\")\n",
    "else:\n",
    "    print(f'Cant find deployed agent with the display_name=\"{DISPLAY_NAME}\"')"
   ]
  },
  {
   "cell_type": "markdown",
   "id": "810c0e8f-13fd-430b-b9bd-603ea36ef44a",
   "metadata": {},
   "source": [
    "#### Get a deployed agent\n",
    "The following code lets you get a specific deployed agent:"
   ]
  },
  {
   "cell_type": "code",
   "execution_count": null,
   "id": "a72b053b-97c6-43e5-91d0-0b735bc3cafc",
   "metadata": {
    "tags": []
   },
   "outputs": [],
   "source": [
    "remote_agent = agent_engines.get(AGENT_RESOURCE_NAME)\n",
    "remote_agent"
   ]
  },
  {
   "cell_type": "markdown",
   "id": "be1ba3d9-038c-4dcd-96b9-3dcc5b0acbba",
   "metadata": {},
   "source": [
    "Alternately, you can provide the fully qualified resource name:"
   ]
  },
  {
   "cell_type": "code",
   "execution_count": null,
   "id": "e36f427c-b800-454e-a8c3-17fc7181be51",
   "metadata": {
    "tags": []
   },
   "outputs": [],
   "source": [
    "remote_agent = agent_engines.get(AGENT_RESOURCE_ID)\n",
    "remote_agent"
   ]
  },
  {
   "cell_type": "markdown",
   "id": "b7c3b3e8-3c56-41fb-9a74-bf418bac0d32",
   "metadata": {},
   "source": [
    "### Update a deployed agent\n",
    "A very common use case is to update a deployed agent with a new version that might contain new capabilities or bug fixes."
   ]
  },
  {
   "cell_type": "markdown",
   "id": "8ca08177-a6bd-4c06-a76f-8b1372a80581",
   "metadata": {
    "tags": []
   },
   "source": [
    "#### Prepare an updated Agent files\n",
    "Here, let's reuse the basic agent files created in [building_agent_with_adk.ipynb](./building_agent_with_adk.ipynb) notebook.\n",
    "\n",
    "If you haven't run the notebook, executed the cells below to create files."
   ]
  },
  {
   "cell_type": "code",
   "execution_count": null,
   "id": "dd32939e-62c6-4e5d-ab4a-0c90855319d6",
   "metadata": {
    "tags": []
   },
   "outputs": [],
   "source": [
    "!cp ./adk_agents/agent1_weather_lookup/tools.py ./adk_agents/agent2_sub_agent/"
   ]
  },
  {
   "cell_type": "code",
   "execution_count": null,
   "id": "f17e44ad-2f5e-4503-9fab-69a626792846",
   "metadata": {
    "tags": []
   },
   "outputs": [],
   "source": [
    "%%writefile -a ./adk_agents/agent2_sub_agent/tools.py\n",
    "\n",
    "def say_hello(name: str = \"there\") -> str:\n",
    "    \"\"\"Provides a simple greeting, optionally addressing the user by name.\n",
    "\n",
    "    Args:\n",
    "        name (str, optional): The name of the person to greet. Defaults to \"there\".\n",
    "\n",
    "    Returns:\n",
    "        str: A friendly greeting message.\n",
    "    \"\"\"\n",
    "    if name is None or name.strip() == \"\":\n",
    "        name = \"there\"\n",
    "    print(f\"--- Tool: say_hello called with name: {name} ---\")\n",
    "    return f\"Hello, {name}!\"\n",
    "\n",
    "def say_goodbye() -> str:\n",
    "    \"\"\"Provides a simple farewell message to conclude the conversation.\"\"\"\n",
    "    print(f\"--- Tool: say_goodbye called ---\")\n",
    "    return \"Goodbye! Have a great day.\""
   ]
  },
  {
   "cell_type": "code",
   "execution_count": null,
   "id": "2bf2dc62-a629-49a6-9eff-cffc764757d4",
   "metadata": {
    "tags": []
   },
   "outputs": [],
   "source": [
    "%%writefile ./adk_agents/agent2_sub_agent/agent.py\n",
    "from google.adk.agents import Agent\n",
    "MODEL = \"gemini-2.0-flash\"\n",
    "\n",
    "from .tools import get_weather, say_hello, say_goodbye\n",
    "\n",
    "# --- Greeting Agent ---\n",
    "greeting_agent = Agent(\n",
    "    model=MODEL,\n",
    "    name=\"greeting_agent\",\n",
    "    instruction=\"You are the Greeting Agent. Your ONLY task is to provide a friendly greeting to the user. \"\n",
    "                \"Use the 'say_hello' tool to generate the greeting. \"\n",
    "                \"If the user provides their name, make sure to pass it to the tool. \"\n",
    "                \"Do not engage in any other conversation or tasks.\",\n",
    "    description=\"Handles simple greetings and hellos using the 'say_hello' tool.\", # Crucial for delegation\n",
    "    tools=[say_hello],\n",
    ")"
   ]
  },
  {
   "cell_type": "code",
   "execution_count": null,
   "id": "41c192e6-661b-47ec-acfb-52ce91fac72a",
   "metadata": {
    "tags": []
   },
   "outputs": [],
   "source": [
    "%%writefile -a ./adk_agents/agent2_sub_agent/agent.py\n",
    "\n",
    "# --- Farewell Agent ---\n",
    "farewell_agent = Agent(\n",
    "    model=MODEL,\n",
    "    name=\"farewell_agent\",\n",
    "    instruction=\"You are the Farewell Agent. Your ONLY task is to provide a polite goodbye message. \"\n",
    "                \"Use the 'say_goodbye' tool when the user indicates they are leaving or ending the conversation \"\n",
    "                \"(e.g., using words like 'bye', 'goodbye', 'thanks bye', 'see you'). \"\n",
    "                \"Do not perform any other actions.\",\n",
    "    description=\"Handles simple farewells and goodbyes using the 'say_goodbye' tool.\", # Crucial for delegation\n",
    "    tools=[say_goodbye],\n",
    ")"
   ]
  },
  {
   "cell_type": "code",
   "execution_count": null,
   "id": "db625e4a-2ba6-4b5e-b764-5b5ff54afb57",
   "metadata": {
    "tags": []
   },
   "outputs": [],
   "source": [
    "%%writefile -a ./adk_agents/agent2_sub_agent/agent.py\n",
    "\n",
    "root_agent = Agent(\n",
    "    name=\"weather_agent_v2\", # Give it a new version name\n",
    "    model=MODEL,\n",
    "    description=\"The main coordinator agent. Handles weather requests and delegates greetings/farewells to specialists.\",\n",
    "    instruction=\"You are the main Weather Agent coordinating a team. Your primary responsibility is to provide weather information. \"\n",
    "                \"Use the 'get_weather' tool ONLY for specific weather requests (e.g., 'weather in London'). \"\n",
    "                \"You have specialized sub-agents: \"\n",
    "                \"1. 'greeting_agent': Handles simple greetings like 'Hi', 'Hello'. Delegate to it for these. \"\n",
    "                \"2. 'farewell_agent': Handles simple farewells like 'Bye', 'See you'. Delegate to it for these. \"\n",
    "                \"Analyze the user's query. If it's a greeting, delegate to 'greeting_agent'. If it's a farewell, delegate to 'farewell_agent'. \"\n",
    "                \"If it's a weather request, handle it yourself using 'get_weather'. \"\n",
    "                \"For anything else, respond appropriately or state you cannot handle it.\",\n",
    "    tools=[get_weather],\n",
    "    sub_agents=[greeting_agent, farewell_agent]\n",
    ")"
   ]
  },
  {
   "cell_type": "markdown",
   "id": "479f0ae3-fbd1-4ebd-93ae-9ad8e05f57cd",
   "metadata": {
    "tags": []
   },
   "source": [
    "#### Update a deployed agent to an updated agent\n",
    "You can update one or more fields of the deployed agent at the same time, but you have to specify at least one of the fields to be updated. The amount of time it takes to update the deployed agent depends on the update being performed, but it generally takes between a few seconds to a few minutes.\n",
    "\n",
    "To update a deployed agent (***weather_agent_v1***, corresponding to AGENT_RESOURCE_ID) to an updated agent (***weather_agent_v2*** corresponding to UPDATED_AGENT_APP):"
   ]
  },
  {
   "cell_type": "code",
   "execution_count": null,
   "id": "e57002c2-dd54-47c6-acfd-4010c8ad0c85",
   "metadata": {
    "tags": []
   },
   "outputs": [],
   "source": [
    "from adk_agents.agent2_sub_agent import agent as agent2\n",
    "\n",
    "importlib.reload(agent2)  # Force reload\n",
    "\n",
    "UPDATED_AGENT_APP = AdkApp(agent=agent2.root_agent, enable_tracing=True)\n",
    "\n",
    "remote_app = agent_engines.update(\n",
    "    resource_name=AGENT_RESOURCE_ID,\n",
    "    agent_engine=UPDATED_AGENT_APP,\n",
    "    description=\"Weather Agent v2\",\n",
    "    display_name=agent2.root_agent.name,\n",
    "    requirements=[\n",
    "        \"google-adk (>=1.5.0)\",\n",
    "        \"google-genai (>=1.5.0,<2.0.0)\",\n",
    "    ],\n",
    "    extra_packages=[\"./adk_agents/\"],\n",
    ")"
   ]
  },
  {
   "cell_type": "markdown",
   "id": "b617d6901e4d5ece",
   "metadata": {},
   "source": [
    "Creating a new session to see deployment update take effect"
   ]
  },
  {
   "cell_type": "code",
   "execution_count": null,
   "id": "867c8650c8567c5d",
   "metadata": {},
   "outputs": [],
   "source": [
    "remote_session = remote_app.create_session(user_id=USER_ID)"
   ]
  },
  {
   "cell_type": "markdown",
   "id": "40cc6c72-cf6f-4c87-9cab-b7c655d5c5a4",
   "metadata": {},
   "source": [
    "Checking changed result, after agent update:"
   ]
  },
  {
   "cell_type": "code",
   "execution_count": null,
   "id": "7c799832-f395-421b-9b02-8eb8f956b7f5",
   "metadata": {},
   "outputs": [],
   "source": [
    "for event in remote_app.stream_query(\n",
    "    user_id=USER_ID,\n",
    "    session_id=remote_session[\"id\"],\n",
    "    message=\"Hello!\",\n",
    "):\n",
    "    print_adk_output(event)"
   ]
  },
  {
   "cell_type": "code",
   "execution_count": null,
   "id": "ec2f629d-4b0d-427b-9d8e-1eba09f7fe25",
   "metadata": {},
   "outputs": [],
   "source": [
    "for event in remote_app.stream_query(\n",
    "    user_id=USER_ID,\n",
    "    session_id=remote_session[\"id\"],\n",
    "    message=\"Bye!\",\n",
    "):\n",
    "    print_adk_output(event)"
   ]
  },
  {
   "cell_type": "markdown",
   "id": "31650488-1e42-465e-8eab-05d3f092b5fb",
   "metadata": {},
   "source": [
    "### Clean up\n",
    "After you have finished, it is a good practice to clean up your cloud resources. \n",
    "You can delete the deployed Agent Engine instance by using the next code:"
   ]
  },
  {
   "cell_type": "code",
   "execution_count": null,
   "id": "ea315675-5ac8-42e5-b871-86229644f2d7",
   "metadata": {
    "tags": []
   },
   "outputs": [],
   "source": [
    "# remote_app.delete(force=True)"
   ]
  },
  {
   "cell_type": "markdown",
   "id": "f21ad889-fb3e-4d89-9e66-ea27e4a52ed0",
   "metadata": {},
   "source": [
    "Alternatively, you can call agent_engines.delete() to delete the deployed agent corresponding to AGENT_RESOURCE_ID in the following way:\n"
   ]
  },
  {
   "cell_type": "code",
   "execution_count": null,
   "id": "c5b70b48-fa50-46f5-8f7e-387d5509d8af",
   "metadata": {},
   "outputs": [],
   "source": [
    "# agent_engines.delete(AGENT_RESOURCE_ID)"
   ]
  },
  {
   "cell_type": "markdown",
   "id": "562b6138-4d26-40ca-a306-3470b1136367",
   "metadata": {},
   "source": [
    "Copyright 2025 Google LLC\n",
    "\n",
    "Licensed under the Apache License, Version 2.0 (the \"License\"); you may not use this file except in compliance with the License. You may obtain a copy of the License at\n",
    "\n",
    "https://www.apache.org/licenses/LICENSE-2.0\n",
    "Unless required by applicable law or agreed to in writing, software distributed under the License is distributed on an \"AS IS\" BASIS, WITHOUT WARRANTIES OR CONDITIONS OF ANY KIND, either express or implied. See the License for the specific language governing permissions and limitations under the License."
   ]
  }
 ],
 "metadata": {
  "environment": {
   "kernel": "conda-env-adk_kernel-adk_kernel",
   "name": "workbench-notebooks.m134",
   "type": "gcloud",
   "uri": "us-docker.pkg.dev/deeplearning-platform-release/gcr.io/workbench-notebooks:m134"
  },
  "kernelspec": {
   "display_name": "ADK kernel (Local)",
   "language": "python",
   "name": "conda-env-adk_kernel-adk_kernel"
  },
  "language_info": {
   "codemirror_mode": {
    "name": "ipython",
    "version": 3
   },
   "file_extension": ".py",
   "mimetype": "text/x-python",
   "name": "python",
   "nbconvert_exporter": "python",
   "pygments_lexer": "ipython3",
   "version": "3.10.14"
  }
 },
 "nbformat": 4,
 "nbformat_minor": 5
}
